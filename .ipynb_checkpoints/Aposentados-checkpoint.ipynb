{
 "cells": [
  {
   "cell_type": "code",
   "execution_count": 13,
   "metadata": {},
   "outputs": [],
   "source": [
    "import xlrd\n",
    "import matplotlib.pyplot as plt"
   ]
  },
  {
   "cell_type": "code",
   "execution_count": 14,
   "metadata": {},
   "outputs": [],
   "source": [
    "meses = ['Janeiro-2018','Fevereiro-2018','Janeiro-2019','Fevereiro-2019']"
   ]
  },
  {
   "cell_type": "code",
   "execution_count": 15,
   "metadata": {},
   "outputs": [],
   "source": [
    "def xlread(arq_xls):    \n",
    "    \"\"\"\n",
    "    Gerador que le arquivo .xls\n",
    "    \"\"\"\n",
    "    # Abre o arquivo\n",
    "    xls = xlrd.open_workbook(arq_xls)\n",
    "    # Pega a primeira planilha do arquivo\n",
    "    plan = xls.sheets()[0]\n",
    "    # Para i de zero ao numero de linhas da planilha\n",
    "    for i in range(plan.nrows):\n",
    "        # Le os valores nas linhas da planilha\n",
    "        yield plan.row_values(i)\n"
   ]
  },
  {
   "cell_type": "code",
   "execution_count": 16,
   "metadata": {},
   "outputs": [],
   "source": [
    "#Variáveis para armazenar os dados\n",
    "countAposentados = 0\n",
    "qtdAposentados = []\n",
    "somaMes = 0\n",
    "listSomaMes = []"
   ]
  },
  {
   "cell_type": "code",
   "execution_count": 17,
   "metadata": {},
   "outputs": [],
   "source": [
    "for m in meses:\n",
    "    for linha in xlread(m+'.xls'):\n",
    "        #pegando dados de cada mês\n",
    "        countAposentados += 1\n",
    "        somaMes += linha[2]       \n",
    "        \n",
    "    #Add nas Listas\n",
    "    qtdAposentados.append(countAposentados)   \n",
    "    listSomaMes.append(somaMes)\n",
    "    \n",
    "    #Zerando variaveis\n",
    "    countAposentados = 0\n",
    "    somaMes = 0    "
   ]
  },
  {
   "cell_type": "code",
   "execution_count": 18,
   "metadata": {},
   "outputs": [],
   "source": [
    "#Variáveis para o Gráfico\n",
    "xBar1 = range(len(qtdAposentados))\n",
    "yBar1 = qtdAposentados\n",
    "xBar2 = range(len(listSomaMes))\n",
    "yBar2 = listSomaMes\n",
    "xleg = range(len(meses))"
   ]
  },
  {
   "cell_type": "code",
   "execution_count": 20,
   "metadata": {},
   "outputs": [
    {
     "data": {
      "image/png": "[encoded data removed]",
      "text/plain": [
       "<Figure size 432x288 with 2 Axes>"
      ]
     },
     "metadata": {
      "needs_background": "light"
     },
     "output_type": "display_data"
    }
   ],
   "source": [
    "#Plotando gráfico\n",
    "\n",
    "def qtdAposentados():\n",
    "    plt.subplot(121).set_title('Quantidade de Aposentados')\n",
    "    b1=plt.bar(xBar1, yBar1, color='c')\n",
    "    plt.xticks(xleg,meses,rotation='vertical',size=8)    \n",
    "    plt.ylabel(u'Dados mensais (Mil)')\n",
    "    \n",
    "    \n",
    "def valorAposentadorias():\n",
    "    plt.subplot(122).set_title('Valor das Aposentadorias')\n",
    "    b2=plt.bar(xBar2, yBar2, color='m')\n",
    "    plt.xticks(xleg,meses,rotation='vertical',size=8)\n",
    "    plt.ylabel(u'Valores mensais (Milhão)')\n",
    "    \n",
    "def Plotar():\n",
    "    plt.subplots_adjust(top=1.20, bottom=0.08, left=0.4, right=2.5, hspace=0.25,wspace=0.20)   \n",
    "    qtdAposentados()\n",
    "    valorAposentadorias()\n",
    "    plt.show()\n",
    "\n",
    "Plotar()\n"
   ]
  },
  {
   "cell_type": "code",
   "execution_count": 21,
   "metadata": {},
   "outputs": [],
   "source": [
    "cargoValor = {}\n",
    "mesDados = {}\n",
    "topDez = {}"
   ]
  },
  {
   "cell_type": "code",
   "execution_count": 32,
   "metadata": {},
   "outputs": [
    {
     "name": "stdout",
     "output_type": "stream",
     "text": [
      "{'Janeiro-2018': [54521.12, 43823.26, 43733.16, 35646.34, 35400.44, 33596.68, 30885.22, 28976.19, 27258.31, 26136.41], 'Fevereiro-2018': [34024.46, 32905.42, 27181.95, 25490.18, 22600.43, 22086.33, 21041.6, 20705.63, 19636.96, 19291.83], 'Fevereiro-2019': [71315.78, 50210.51, 50058.27, 48252.89, 48122.48, 44684.73, 43608.62, 42550.88, 33441.08, 31135.88], 'Janeiro-2019': [46324.13, 29403.42, 26868.48, 26562.99, 25565.46, 24892.95, 24807.54, 23837.96, 23516.56, 23212.98]}\n"
     ]
    }
   ],
   "source": [
    "# Pegando os 10 maiores valores dos meses analisados\n",
    "\n",
    "def pegaValores():\n",
    "    for m in meses:\n",
    "        cargoValor = {}\n",
    "        for linha in xlread(m+'.xls'):\n",
    "            #pegando cargo e valor de cada mês\n",
    "             cargoValor[linha[0].strip()] = linha[2]\n",
    "        mesDados[m] = cargoValor\n",
    "        \n",
    "def pegaTopDez():\n",
    "    for m in meses:\n",
    "        listaValores = []\n",
    "        cargoValor = mesDados[m]\n",
    "        \n",
    "        # Enumerando os dados pelos valores recebidos\n",
    "        lista = sorted(cargoValor.values(), reverse=True) ## Poderia ser enumerado pelos items(), mas não está funcionando\n",
    "        \n",
    "        for posicao in range(10):\n",
    "            listaValores.append(lista[posicao])\n",
    "        \n",
    "        topDez[m] = listaValores\n",
    "        \n",
    "pegaValores()\n",
    "pegaTopDez()\n",
    "            \n",
    "print(topDez)"
   ]
  },
  {
   "cell_type": "code",
   "execution_count": 34,
   "metadata": {},
   "outputs": [],
   "source": [
    "xBar1 = range(len(topDez))\n",
    "yBar1 = topDez.values()\n",
    "xleg = range(len(meses))"
   ]
  },
  {
   "cell_type": "code",
   "execution_count": 35,
   "metadata": {},
   "outputs": [
    {
     "ename": "AttributeError",
     "evalue": "'function' object has no attribute 'keys'",
     "output_type": "error",
     "traceback": [
      "\u001b[0;31m---------------------------------------------------------------------------\u001b[0m",
      "\u001b[0;31mAttributeError\u001b[0m                            Traceback (most recent call last)",
      "\u001b[0;32m<ipython-input-35-4a1ca00e23e7>\u001b[0m in \u001b[0;36m<module>\u001b[0;34m()\u001b[0m\n\u001b[1;32m     10\u001b[0m     \u001b[0mplt\u001b[0m\u001b[0;34m.\u001b[0m\u001b[0mshow\u001b[0m\u001b[0;34m(\u001b[0m\u001b[0;34m)\u001b[0m\u001b[0;34m\u001b[0m\u001b[0m\n\u001b[1;32m     11\u001b[0m \u001b[0;34m\u001b[0m\u001b[0m\n\u001b[0;32m---> 12\u001b[0;31m \u001b[0mPlotar\u001b[0m\u001b[0;34m(\u001b[0m\u001b[0;34m)\u001b[0m\u001b[0;34m\u001b[0m\u001b[0m\n\u001b[0m",
      "\u001b[0;32m<ipython-input-35-4a1ca00e23e7>\u001b[0m in \u001b[0;36mPlotar\u001b[0;34m()\u001b[0m\n\u001b[1;32m      7\u001b[0m \u001b[0;32mdef\u001b[0m \u001b[0mPlotar\u001b[0m\u001b[0;34m(\u001b[0m\u001b[0;34m)\u001b[0m\u001b[0;34m:\u001b[0m\u001b[0;34m\u001b[0m\u001b[0m\n\u001b[1;32m      8\u001b[0m     \u001b[0mplt\u001b[0m\u001b[0;34m.\u001b[0m\u001b[0msubplots_adjust\u001b[0m\u001b[0;34m(\u001b[0m\u001b[0mtop\u001b[0m\u001b[0;34m=\u001b[0m\u001b[0;36m1.20\u001b[0m\u001b[0;34m,\u001b[0m \u001b[0mbottom\u001b[0m\u001b[0;34m=\u001b[0m\u001b[0;36m0.08\u001b[0m\u001b[0;34m,\u001b[0m \u001b[0mleft\u001b[0m\u001b[0;34m=\u001b[0m\u001b[0;36m0.4\u001b[0m\u001b[0;34m,\u001b[0m \u001b[0mright\u001b[0m\u001b[0;34m=\u001b[0m\u001b[0;36m2.5\u001b[0m\u001b[0;34m,\u001b[0m \u001b[0mhspace\u001b[0m\u001b[0;34m=\u001b[0m\u001b[0;36m0.25\u001b[0m\u001b[0;34m,\u001b[0m\u001b[0mwspace\u001b[0m\u001b[0;34m=\u001b[0m\u001b[0;36m0.20\u001b[0m\u001b[0;34m)\u001b[0m\u001b[0;34m\u001b[0m\u001b[0m\n\u001b[0;32m----> 9\u001b[0;31m     \u001b[0mtopDez\u001b[0m\u001b[0;34m(\u001b[0m\u001b[0;34m)\u001b[0m\u001b[0;34m\u001b[0m\u001b[0m\n\u001b[0m\u001b[1;32m     10\u001b[0m     \u001b[0mplt\u001b[0m\u001b[0;34m.\u001b[0m\u001b[0mshow\u001b[0m\u001b[0;34m(\u001b[0m\u001b[0;34m)\u001b[0m\u001b[0;34m\u001b[0m\u001b[0m\n\u001b[1;32m     11\u001b[0m \u001b[0;34m\u001b[0m\u001b[0m\n",
      "\u001b[0;32m<ipython-input-35-4a1ca00e23e7>\u001b[0m in \u001b[0;36mtopDez\u001b[0;34m()\u001b[0m\n\u001b[1;32m      2\u001b[0m     \u001b[0mplt\u001b[0m\u001b[0;34m.\u001b[0m\u001b[0msubplot\u001b[0m\u001b[0;34m(\u001b[0m\u001b[0;36m122\u001b[0m\u001b[0;34m)\u001b[0m\u001b[0;34m.\u001b[0m\u001b[0mset_title\u001b[0m\u001b[0;34m(\u001b[0m\u001b[0;34m'Valor das Aposentadorias'\u001b[0m\u001b[0;34m)\u001b[0m\u001b[0;34m\u001b[0m\u001b[0m\n\u001b[1;32m      3\u001b[0m     \u001b[0mgraf\u001b[0m\u001b[0;34m=\u001b[0m\u001b[0mplt\u001b[0m\u001b[0;34m.\u001b[0m\u001b[0mbar\u001b[0m\u001b[0;34m(\u001b[0m\u001b[0mxBar2\u001b[0m\u001b[0;34m,\u001b[0m \u001b[0myBar2\u001b[0m\u001b[0;34m,\u001b[0m \u001b[0mcolor\u001b[0m\u001b[0;34m=\u001b[0m\u001b[0;34m'm'\u001b[0m\u001b[0;34m)\u001b[0m\u001b[0;34m\u001b[0m\u001b[0m\n\u001b[0;32m----> 4\u001b[0;31m     \u001b[0mplt\u001b[0m\u001b[0;34m.\u001b[0m\u001b[0mxticks\u001b[0m\u001b[0;34m(\u001b[0m\u001b[0mxleg\u001b[0m\u001b[0;34m,\u001b[0m\u001b[0mtopDez\u001b[0m\u001b[0;34m.\u001b[0m\u001b[0mkeys\u001b[0m\u001b[0;34m(\u001b[0m\u001b[0;34m)\u001b[0m\u001b[0;34m,\u001b[0m\u001b[0mrotation\u001b[0m\u001b[0;34m=\u001b[0m\u001b[0;34m'vertical'\u001b[0m\u001b[0;34m,\u001b[0m\u001b[0msize\u001b[0m\u001b[0;34m=\u001b[0m\u001b[0;36m8\u001b[0m\u001b[0;34m)\u001b[0m\u001b[0;34m\u001b[0m\u001b[0m\n\u001b[0m\u001b[1;32m      5\u001b[0m     \u001b[0mplt\u001b[0m\u001b[0;34m.\u001b[0m\u001b[0mylabel\u001b[0m\u001b[0;34m(\u001b[0m\u001b[0;34mu'Valores mensais (Milhão)'\u001b[0m\u001b[0;34m)\u001b[0m\u001b[0;34m\u001b[0m\u001b[0m\n\u001b[1;32m      6\u001b[0m \u001b[0;34m\u001b[0m\u001b[0m\n",
      "\u001b[0;31mAttributeError\u001b[0m: 'function' object has no attribute 'keys'"
     ]
    },
    {
     "data": {
      "image/png": "[encoded data removed]",
      "text/plain": [
       "<Figure size 432x288 with 1 Axes>"
      ]
     },
     "metadata": {
      "needs_background": "light"
     },
     "output_type": "display_data"
    }
   ],
   "source": [
    "def topDez():\n",
    "    plt.subplot(122).set_title('Valor das Aposentadorias')\n",
    "    graf=plt.bar(xBar2, yBar2, color='m')\n",
    "    plt.xticks(xleg,topDez,rotation='vertical',size=8)\n",
    "    plt.ylabel(u'Valores mensais (Milhão)')\n",
    "    \n",
    "def Plotar():\n",
    "    plt.subplots_adjust(top=1.20, bottom=0.08, left=0.4, right=2.5, hspace=0.25,wspace=0.20)   \n",
    "    topDez()\n",
    "    plt.show()\n",
    "\n",
    "Plotar()"
   ]
  },
  {
   "cell_type": "code",
   "execution_count": null,
   "metadata": {},
   "outputs": [],
   "source": []
  }
 ],
 "metadata": {
  "kernelspec": {
   "display_name": "Python 2",
   "language": "python",
   "name": "python2"
  },
  "language_info": {
   "codemirror_mode": {
    "name": "ipython",
    "version": 2
   },
   "file_extension": ".py",
   "mimetype": "text/x-python",
   "name": "python",
   "nbconvert_exporter": "python",
   "pygments_lexer": "ipython2",
   "version": "2.7.15rc1"
  }
 },
 "nbformat": 4,
 "nbformat_minor": 2
}
