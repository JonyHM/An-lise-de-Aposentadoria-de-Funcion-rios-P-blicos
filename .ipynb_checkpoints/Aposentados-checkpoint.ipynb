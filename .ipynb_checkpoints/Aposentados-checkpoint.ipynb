{
 "cells": [
  {
   "cell_type": "code",
   "execution_count": 3,
   "metadata": {},
   "outputs": [],
   "source": [
    "import xlrd\n",
    "import matplotlib.pyplot as plt\n",
    "import pandas as pd"
   ]
  },
  {
   "cell_type": "code",
   "execution_count": 4,
   "metadata": {},
   "outputs": [],
   "source": [
    "meses = ['Janeiro-2018','Fevereiro-2018','Janeiro-2019','Fevereiro-2019']"
   ]
  },
  {
   "cell_type": "code",
   "execution_count": 5,
   "metadata": {},
   "outputs": [],
   "source": [
    "def xlread(arq_xls):    \n",
    "    \"\"\"\n",
    "    Gerador que le arquivo .xls\n",
    "    \"\"\"\n",
    "    # Abre o arquivo\n",
    "    xls = xlrd.open_workbook(arq_xls)\n",
    "    # Pega a primeira planilha do arquivo\n",
    "    plan = xls.sheets()[0]\n",
    "    # Para i de zero ao numero de linhas da planilha\n",
    "    for i in range(plan.nrows):\n",
    "        # Le os valores nas linhas da planilha\n",
    "        yield plan.row_values(i)\n"
   ]
  },
  {
   "cell_type": "code",
   "execution_count": 6,
   "metadata": {},
   "outputs": [],
   "source": [
    "#Variáveis para armazenar os dados\n",
    "countAposentados = 0\n",
    "qtdAposentados = []\n",
    "somaMes = 0\n",
    "listSomaMes = []"
   ]
  },
  {
   "cell_type": "code",
   "execution_count": 7,
   "metadata": {},
   "outputs": [],
   "source": [
    "for m in meses:\n",
    "    for linha in xlread(m+'.xls'):\n",
    "        #pegando dados de cada mês\n",
    "        countAposentados += 1\n",
    "        somaMes += linha[2]       \n",
    "        \n",
    "    #Add nas Listas\n",
    "    qtdAposentados.append(countAposentados)   \n",
    "    listSomaMes.append(somaMes)\n",
    "    \n",
    "    #Zerando variaveis\n",
    "    countAposentados = 0\n",
    "    somaMes = 0    "
   ]
  },
  {
   "cell_type": "code",
   "execution_count": 8,
   "metadata": {},
   "outputs": [],
   "source": [
    "#Variáveis para o Gráfico\n",
    "xBar1 = range(len(qtdAposentados))\n",
    "yBar1 = qtdAposentados\n",
    "xBar2 = range(len(listSomaMes))\n",
    "yBar2 = listSomaMes\n",
    "xleg = range(len(meses))"
   ]
  },
  {
   "cell_type": "code",
   "execution_count": 9,
   "metadata": {},
   "outputs": [
    {
     "data": {
      "image/png": "[encoded data removed]",
      "text/plain": [
       "<Figure size 432x288 with 2 Axes>"
      ]
     },
     "metadata": {
      "needs_background": "light"
     },
     "output_type": "display_data"
    }
   ],
   "source": [
    "#Plotando gráfico\n",
    "\n",
    "def qtdAposentados():\n",
    "    plt.subplot(121).set_title('Quantidade de Aposentados')\n",
    "    b1=plt.bar(xBar1, yBar1, color='c')\n",
    "    plt.xticks(xleg,meses,rotation='vertical',size=8)    \n",
    "    plt.ylabel(u'Dados mensais (Mil)')\n",
    "    \n",
    "    \n",
    "def valorAposentadorias():\n",
    "    plt.subplot(122).set_title('Valor das Aposentadorias')\n",
    "    b2=plt.bar(xBar2, yBar2, color='m')\n",
    "    plt.xticks(xleg,meses,rotation='vertical',size=8)\n",
    "    plt.ylabel(u'Valores mensais (Milhão)')\n",
    "    \n",
    "def Plotar():\n",
    "    plt.subplots_adjust(top=1.20, bottom=0.08, left=0.4, right=2.5, hspace=0.25,wspace=0.20)   \n",
    "    qtdAposentados()\n",
    "    valorAposentadorias()\n",
    "    plt.show()\n",
    "\n",
    "Plotar()\n"
   ]
  },
  {
   "cell_type": "code",
   "execution_count": 10,
   "metadata": {},
   "outputs": [],
   "source": [
    "cargoValor = {}\n",
    "mesDados = {}\n",
    "topDez = {}"
   ]
  },
  {
   "cell_type": "code",
   "execution_count": 11,
   "metadata": {
    "scrolled": true
   },
   "outputs": [
    {
     "name": "stdout",
     "output_type": "stream",
     "text": [
      "{'Janeiro-2018': [54521.12, 43823.26, 43733.16, 35646.34, 35400.44, 33596.68, 30885.22, 28976.19, 27258.31, 26136.41], 'Fevereiro-2018': [34024.46, 32905.42, 27181.95, 25490.18, 22600.43, 22086.33, 21041.6, 20705.63, 19636.96, 19291.83], 'Janeiro-2019': [46324.13, 29403.42, 26868.48, 26562.99, 25565.46, 24892.95, 24807.54, 23837.96, 23516.56, 23212.98], 'Fevereiro-2019': [71315.78, 50210.51, 50058.27, 48252.89, 48122.48, 44684.73, 43608.62, 42550.88, 33441.08, 31135.88]}\n"
     ]
    }
   ],
   "source": [
    "# Pegando os 10 maiores valores dos meses analisados\n",
    "\n",
    "def pegaValores():\n",
    "    for m in meses:\n",
    "        cargoValor = {}\n",
    "        for linha in xlread(m+'.xls'):\n",
    "            #pegando cargo e valor de cada mês\n",
    "            cargo = linha[0].strip()\n",
    "            valor = linha[2]\n",
    "            cargoValor[cargo] = valor\n",
    "        mesDados[m] = cargoValor\n",
    "        \n",
    "def pegaTopDez():\n",
    "    for m in meses:\n",
    "        listaValores = []\n",
    "        cargoValor = mesDados[m]\n",
    "        \n",
    "        # Enumerando os dados pelos valores recebidos\n",
    "        lista = sorted(cargoValor.values(), key=float, reverse=True) ## Poderia ser enumerado pelos items(), mas não está funcionando\n",
    "        \n",
    "        for posicao in range(10):\n",
    "            listaValores.append(lista[posicao])\n",
    "        \n",
    "        topDez[m] = listaValores\n",
    "        \n",
    "pegaValores()\n",
    "pegaTopDez()\n",
    "            \n",
    "print(topDez)"
   ]
  },
  {
   "cell_type": "code",
   "execution_count": 14,
   "metadata": {},
   "outputs": [
    {
     "name": "stdout",
     "output_type": "stream",
     "text": [
      "   Janeiro-2018\n",
      "0      54521.12\n",
      "1      43823.26\n",
      "2      43733.16\n",
      "3      35646.34\n",
      "4      35400.44\n",
      "5      33596.68\n",
      "6      30885.22\n",
      "7      28976.19\n",
      "8      27258.31\n",
      "9      26136.41\n",
      "\n",
      "\n",
      "   Fevereiro-2018\n",
      "0        34024.46\n",
      "1        32905.42\n",
      "2        27181.95\n",
      "3        25490.18\n",
      "4        22600.43\n",
      "5        22086.33\n",
      "6        21041.60\n",
      "7        20705.63\n",
      "8        19636.96\n",
      "9        19291.83\n",
      "\n",
      "\n",
      "   Janeiro-2019\n",
      "0      46324.13\n",
      "1      29403.42\n",
      "2      26868.48\n",
      "3      26562.99\n",
      "4      25565.46\n",
      "5      24892.95\n",
      "6      24807.54\n",
      "7      23837.96\n",
      "8      23516.56\n",
      "9      23212.98\n",
      "\n",
      "\n",
      "   Fevereiro-2019\n",
      "0        71315.78\n",
      "1        50210.51\n",
      "2        50058.27\n",
      "3        48252.89\n",
      "4        48122.48\n",
      "5        44684.73\n",
      "6        43608.62\n",
      "7        42550.88\n",
      "8        33441.08\n",
      "9        31135.88\n",
      "\n",
      "\n"
     ]
    }
   ],
   "source": [
    "for m in meses:\n",
    "    tabela = pd.DataFrame(\n",
    "        {\n",
    "            m: topDez[m]\n",
    "        }\n",
    "    )\n",
    "    print(tabela)\n",
    "    print('\\n')"
   ]
  },
  {
   "cell_type": "code",
   "execution_count": 15,
   "metadata": {},
   "outputs": [
    {
     "data": {
      "text/html": [
       "<div>\n",
       "<style scoped>\n",
       "    .dataframe tbody tr th:only-of-type {\n",
       "        vertical-align: middle;\n",
       "    }\n",
       "\n",
       "    .dataframe tbody tr th {\n",
       "        vertical-align: top;\n",
       "    }\n",
       "\n",
       "    .dataframe thead th {\n",
       "        text-align: right;\n",
       "    }\n",
       "</style>\n",
       "<table border=\"1\" class=\"dataframe\">\n",
       "  <thead>\n",
       "    <tr style=\"text-align: right;\">\n",
       "      <th></th>\n",
       "      <th>Janeiro-2018</th>\n",
       "      <th>Fevereiro-2018</th>\n",
       "      <th>Janeiro-2019</th>\n",
       "      <th>Fevereiro-2019</th>\n",
       "    </tr>\n",
       "  </thead>\n",
       "  <tbody>\n",
       "    <tr>\n",
       "      <th>0</th>\n",
       "      <td>54521.12</td>\n",
       "      <td>34024.46</td>\n",
       "      <td>46324.13</td>\n",
       "      <td>71315.78</td>\n",
       "    </tr>\n",
       "    <tr>\n",
       "      <th>1</th>\n",
       "      <td>43823.26</td>\n",
       "      <td>32905.42</td>\n",
       "      <td>29403.42</td>\n",
       "      <td>50210.51</td>\n",
       "    </tr>\n",
       "    <tr>\n",
       "      <th>2</th>\n",
       "      <td>43733.16</td>\n",
       "      <td>27181.95</td>\n",
       "      <td>26868.48</td>\n",
       "      <td>50058.27</td>\n",
       "    </tr>\n",
       "    <tr>\n",
       "      <th>3</th>\n",
       "      <td>35646.34</td>\n",
       "      <td>25490.18</td>\n",
       "      <td>26562.99</td>\n",
       "      <td>48252.89</td>\n",
       "    </tr>\n",
       "    <tr>\n",
       "      <th>4</th>\n",
       "      <td>35400.44</td>\n",
       "      <td>22600.43</td>\n",
       "      <td>25565.46</td>\n",
       "      <td>48122.48</td>\n",
       "    </tr>\n",
       "    <tr>\n",
       "      <th>5</th>\n",
       "      <td>33596.68</td>\n",
       "      <td>22086.33</td>\n",
       "      <td>24892.95</td>\n",
       "      <td>44684.73</td>\n",
       "    </tr>\n",
       "    <tr>\n",
       "      <th>6</th>\n",
       "      <td>30885.22</td>\n",
       "      <td>21041.60</td>\n",
       "      <td>24807.54</td>\n",
       "      <td>43608.62</td>\n",
       "    </tr>\n",
       "    <tr>\n",
       "      <th>7</th>\n",
       "      <td>28976.19</td>\n",
       "      <td>20705.63</td>\n",
       "      <td>23837.96</td>\n",
       "      <td>42550.88</td>\n",
       "    </tr>\n",
       "    <tr>\n",
       "      <th>8</th>\n",
       "      <td>27258.31</td>\n",
       "      <td>19636.96</td>\n",
       "      <td>23516.56</td>\n",
       "      <td>33441.08</td>\n",
       "    </tr>\n",
       "    <tr>\n",
       "      <th>9</th>\n",
       "      <td>26136.41</td>\n",
       "      <td>19291.83</td>\n",
       "      <td>23212.98</td>\n",
       "      <td>31135.88</td>\n",
       "    </tr>\n",
       "  </tbody>\n",
       "</table>\n",
       "</div>"
      ],
      "text/plain": [
       "   Janeiro-2018  Fevereiro-2018  Janeiro-2019  Fevereiro-2019\n",
       "0      54521.12        34024.46      46324.13        71315.78\n",
       "1      43823.26        32905.42      29403.42        50210.51\n",
       "2      43733.16        27181.95      26868.48        50058.27\n",
       "3      35646.34        25490.18      26562.99        48252.89\n",
       "4      35400.44        22600.43      25565.46        48122.48\n",
       "5      33596.68        22086.33      24892.95        44684.73\n",
       "6      30885.22        21041.60      24807.54        43608.62\n",
       "7      28976.19        20705.63      23837.96        42550.88\n",
       "8      27258.31        19636.96      23516.56        33441.08\n",
       "9      26136.41        19291.83      23212.98        31135.88"
      ]
     },
     "execution_count": 15,
     "metadata": {},
     "output_type": "execute_result"
    }
   ],
   "source": [
    "tabela = pd.DataFrame(topDez)\n",
    "\n",
    "tabela"
   ]
  },
  {
   "cell_type": "code",
   "execution_count": null,
   "metadata": {},
   "outputs": [],
   "source": []
  }
 ],
 "metadata": {
  "kernelspec": {
   "display_name": "Python 3",
   "language": "python",
   "name": "python3"
  },
  "language_info": {
   "codemirror_mode": {
    "name": "ipython",
    "version": 3
   },
   "file_extension": ".py",
   "mimetype": "text/x-python",
   "name": "python",
   "nbconvert_exporter": "python",
   "pygments_lexer": "ipython3",
   "version": "3.7.2"
  }
 },
 "nbformat": 4,
 "nbformat_minor": 2
}
