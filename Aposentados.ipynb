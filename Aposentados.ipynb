{
 "cells": [
  {
   "cell_type": "code",
   "execution_count": 1,
   "metadata": {},
   "outputs": [],
   "source": [
    "import xlrd\n",
    "import matplotlib.pyplot as plt "
   ]
  },
  {
   "cell_type": "code",
   "execution_count": null,
   "metadata": {},
   "outputs": [],
   "source": []
  },
  {
   "cell_type": "code",
   "execution_count": 2,
   "metadata": {},
   "outputs": [],
   "source": [
    "meses = ['Janeiro-2018','Fevereiro-2018','Janeiro-2019','Fevereiro-2019']"
   ]
  },
  {
   "cell_type": "code",
   "execution_count": null,
   "metadata": {},
   "outputs": [],
   "source": [
    "            "
   ]
  },
  {
   "cell_type": "code",
   "execution_count": 3,
   "metadata": {},
   "outputs": [],
   "source": [
    "def xlread(arq_xls):    \n",
    "    \"\"\"\n",
    "    Gerador que le arquivo .xls\n",
    "    \"\"\"\n",
    "    # Abre o arquivo\n",
    "    xls = xlrd.open_workbook(arq_xls)\n",
    "    # Pega a primeira planilha do arquivo\n",
    "    plan = xls.sheets()[0]\n",
    "    # Para i de zero ao numero de linhas da planilha\n",
    "    for i in range(plan.nrows):\n",
    "        # Le os valores nas linhas da planilha\n",
    "        yield plan.row_values(i)\n"
   ]
  },
  {
   "cell_type": "code",
   "execution_count": 4,
   "metadata": {},
   "outputs": [],
   "source": [
    "#Variáveis pegar dados\n",
    "countAposentados = 0\n",
    "qtdAposentados = []\n",
    "somaMes = 0\n",
    "listSomaMes = []"
   ]
  },
  {
   "cell_type": "code",
   "execution_count": 5,
   "metadata": {},
   "outputs": [],
   "source": [
    "for m in meses:\n",
    "    for linha in xlread(m+'.xls'):\n",
    "        #pegando dados de cada mês\n",
    "        countAposentados += 1\n",
    "        somaMes += linha[2]\n",
    "        \n",
    "    #Add nas Listas\n",
    "    qtdAposentados.append(countAposentados)   \n",
    "    listSomaMes.append(somaMes)\n",
    "    \n",
    "    #Zerando variaveis\n",
    "    countAposentados = 0\n",
    "    somaMes = 0    "
   ]
  },
  {
   "cell_type": "code",
   "execution_count": 6,
   "metadata": {},
   "outputs": [],
   "source": [
    "#Variáveis Gráfico\n",
    "xBar1 = range(len(qtdAposentados))\n",
    "yBar1 = qtdAposentados\n",
    "xBar2 = range(len(listSomaMes))\n",
    "yBar2 = listSomaMes\n",
    "xleg = range(len(meses))"
   ]
  },
  {
   "cell_type": "code",
   "execution_count": 7,
   "metadata": {},
   "outputs": [
    {
     "data": {
      "image/png": "[encoded data removed]",
      "text/plain": [
       "<Figure size 432x288 with 2 Axes>"
      ]
     },
     "metadata": {
      "needs_background": "light"
     },
     "output_type": "display_data"
    }
   ],
   "source": [
    "#Plotando gráfico\n",
    "\n",
    "def qtdAposentados():\n",
    "    plt.subplot(121)\n",
    "    b1=plt.bar(xBar1, yBar1, color='c')\n",
    "    #b2=plt.bar(xBar2, yBar2, color='#039BE5')\n",
    "    plt.xticks(xleg,meses,rotation='vertical',size=8)    \n",
    "    plt.ylabel('Aposentados no mês (Mil)')\n",
    "    \n",
    "    \n",
    "def valorAposentadorias():\n",
    "    \n",
    "    plt.title('')\n",
    "    plt.subplot(122)\n",
    "    b2=plt.bar(xBar2, yBar2, color='m')\n",
    "    plt.xticks(xleg,meses,rotation='vertical',size=8)\n",
    "    plt.ylabel('Valor aposentadorias por mês (Milhão)')\n",
    "    \n",
    "def Plotar():\n",
    "    plt.subplots_adjust(top=1.20, bottom=0.08, left=0.4, right=2.5, hspace=0.25,wspace=0.20)   \n",
    "    qtdAposentados()\n",
    "    valorAposentadorias()\n",
    "    plt.show()\n",
    "\n",
    "Plotar()\n"
   ]
  },
  {
   "cell_type": "code",
   "execution_count": null,
   "metadata": {},
   "outputs": [],
   "source": [
    "\n"
   ]
  }
 ],
 "metadata": {
  "kernelspec": {
   "display_name": "Python 3",
   "language": "python",
   "name": "python3"
  },
  "language_info": {
   "codemirror_mode": {
    "name": "ipython",
    "version": 3
   },
   "file_extension": ".py",
   "mimetype": "text/x-python",
   "name": "python",
   "nbconvert_exporter": "python",
   "pygments_lexer": "ipython3",
   "version": "3.7.2"
  }
 },
 "nbformat": 4,
 "nbformat_minor": 2
}
